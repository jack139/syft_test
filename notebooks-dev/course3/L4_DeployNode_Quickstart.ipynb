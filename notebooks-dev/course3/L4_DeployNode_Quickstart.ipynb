{
 "cells": [
  {
   "cell_type": "markdown",
   "id": "d59252a1-05b1-485a-a338-8a3d2d6ade71",
   "metadata": {},
   "source": [
    "# Lesson 4: Deploy your first domain node with Hagrid\n",
    "\n",
    "<b><u>Instructors</b></u>: Ishan Mishra, Phil Culliton\n",
    "\n",
    "\n",
    "This tutorial is a faster walkthrough of how to <b>setup your domain node </b> for the very first time. It assumes you're familiar with Docker, and Virtual Environments (such as <a href=\"https://conda.io\">conda</a>, <a href=\"https://docs.python.org/3/library/venv.html\">venv</a>, or <a href=\"https://github.com/pyenv/pyenv\">pyenv</a>), and provides you a faster route to setting everything up in 5 steps, and in only a few minutes."
   ]
  },
  {
   "cell_type": "markdown",
   "id": "b6440abc-ff57-4fe4-9ccc-7eaf79815677",
   "metadata": {},
   "source": [
    "<hr>"
   ]
  },
  {
   "cell_type": "markdown",
   "id": "480edc12-a236-4aba-999b-125aa6867a59",
   "metadata": {},
   "source": [
    "## Steps\n",
    "\n",
    "<b>Note: We assume you already installed the PySyft and Hagrid source code back during the Lesson 2 demo. If you haven't, please pause and do so now!</b>\n"
   ]
  },
  {
   "cell_type": "markdown",
   "id": "8f185073-183d-46a0-8a89-22b0da15299c",
   "metadata": {},
   "source": [
    "<hr>"
   ]
  },
  {
   "cell_type": "markdown",
   "id": "efb0a50e-5325-4d3c-a46b-cdba9313c389",
   "metadata": {},
   "source": [
    "### <b>1. Activate your Virtual Environment</b>\n",
    "\n",
    "<b> Note: </b> If you haven't already created a Virtual Environment in Lesson 2, please do so by running the first command and re-installing PySyft and Hagrid."
   ]
  },
  {
   "cell_type": "markdown",
   "id": "d9ffd959-2b21-4114-bf0b-8b76b1012714",
   "metadata": {},
   "source": [
    "```\n",
    "# Using Conda as an example\n",
    "conda create -n lab python=3.9\n",
    "\n",
    "# Activate it:\n",
    "conda activate lab\n",
    "```"
   ]
  },
  {
   "cell_type": "markdown",
   "id": "0000a7f5-14fe-4467-be7b-17f5df184800",
   "metadata": {},
   "source": [
    "<hr>"
   ]
  },
  {
   "cell_type": "markdown",
   "id": "0bf548ee-c08b-4b29-b0b7-6517404365a4",
   "metadata": {},
   "source": [
    "### <b>2. Launch <a href=\"https://www.docker.com/products/docker-desktop\">Docker Desktop</a>, and ensure it has atleast 8GB of RAM available. </b>\n"
   ]
  },
  {
   "cell_type": "markdown",
   "id": "564597fe-d54d-48bf-99af-25bc8aa0bacf",
   "metadata": {},
   "source": [
    "<hr>"
   ]
  },
  {
   "cell_type": "markdown",
   "id": "e178ea4f-dee9-4f99-8ca9-8f12677a8bae",
   "metadata": {},
   "source": [
    "### <b>3. Launch HAGrid</b>"
   ]
  },
  {
   "cell_type": "markdown",
   "id": "d7c07bb4-5450-4c6e-b237-bea266fc72ca",
   "metadata": {},
   "source": [
    "```\n",
    "# Here we're calling our node \"local_node\"\n",
    "hagrid launch local_node\n",
    "```"
   ]
  },
  {
   "cell_type": "markdown",
   "id": "6aef4102-d0fc-4fa9-ac1c-b7797d57a7e5",
   "metadata": {},
   "source": [
    "<hr>"
   ]
  },
  {
   "cell_type": "markdown",
   "id": "202a168d-3f62-4016-a3db-6c5e469d4f8d",
   "metadata": {},
   "source": [
    "### <b>4. Login to the Domain!</b>\n",
    "\n",
    "\n",
    "<i>Voila!</i> You now have a working domain node. To login, go to <b>localhost:\"port_number\"</b> in your browser (port_number is 8081 by default).\n",
    "\n",
    "The default username and password are as follows:\n",
    "\n",
    "- Username: <b> info@openmined.org </b>\n",
    "- PW: <b> changethis </b>"
   ]
  },
  {
   "cell_type": "markdown",
   "id": "80baa480-3391-49d3-aeb2-82a6b0c765ca",
   "metadata": {},
   "source": [
    "<hr>"
   ]
  },
  {
   "cell_type": "markdown",
   "id": "73ff25a5-b71c-430d-8e6e-b3a442db5233",
   "metadata": {},
   "source": [
    "# Congratulations!\n",
    "You successfully deployed a domain node and logged into it, in just a few minutes!\n",
    "I'd recommend you take a moment to look through the list of quality of life tips and tricks we've compiled in the L4_Deployment_Tricks.ipynb notebook.\n",
    "\n",
    "Next, we'll be learning more about Node Maintenance and how you can configure your domain node to best work for you and your institution.\n",
    "Stay tuned!"
   ]
  },
  {
   "cell_type": "markdown",
   "id": "a00a740b-be8a-4ee9-a116-9949e5a12c12",
   "metadata": {},
   "source": [
    "<hr>"
   ]
  },
  {
   "cell_type": "markdown",
   "id": "ec26a920-b297-4d5a-b4ee-2ac04692c0c0",
   "metadata": {},
   "source": [
    "<hr>"
   ]
  }
 ],
 "metadata": {
  "kernelspec": {
   "display_name": "Python 3 (ipykernel)",
   "language": "python",
   "name": "python3"
  },
  "language_info": {
   "codemirror_mode": {
    "name": "ipython",
    "version": 3
   },
   "file_extension": ".py",
   "mimetype": "text/x-python",
   "name": "python",
   "nbconvert_exporter": "python",
   "pygments_lexer": "ipython3",
   "version": "3.9.7"
  }
 },
 "nbformat": 4,
 "nbformat_minor": 5
}
