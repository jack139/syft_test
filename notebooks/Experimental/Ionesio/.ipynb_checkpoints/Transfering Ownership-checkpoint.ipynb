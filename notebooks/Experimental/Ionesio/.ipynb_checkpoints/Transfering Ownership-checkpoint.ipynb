{
 "cells": [
  {
   "cell_type": "markdown",
   "id": "7f71a9af",
   "metadata": {},
   "source": [
    "# CH1842"
   ]
  },
  {
   "cell_type": "code",
   "execution_count": 1,
   "id": "199f2ea5",
   "metadata": {},
   "outputs": [],
   "source": [
    "import syft as sy\n",
    "import numpy as np"
   ]
  },
  {
   "cell_type": "code",
   "execution_count": 2,
   "id": "0040a970",
   "metadata": {},
   "outputs": [
    {
     "name": "stdout",
     "output_type": "stream",
     "text": [
      "Connecting to http://docker-host:8081... done! \t Logging into brazil... done!\n"
     ]
    }
   ],
   "source": [
    "domain = sy.login(email=\"info@openmined.org\", password=\"changethis\", port=8081)"
   ]
  },
  {
   "cell_type": "markdown",
   "id": "d8b18fa7",
   "metadata": {},
   "source": [
    "### 1 - Check default node configs"
   ]
  },
  {
   "cell_type": "code",
   "execution_count": 3,
   "id": "86a61ab4",
   "metadata": {},
   "outputs": [
    {
     "data": {
      "text/plain": [
       "{'id': 1,\n",
       " 'domain_name': 'brazil',\n",
       " 'description': '',\n",
       " 'contact': '',\n",
       " 'daa': False,\n",
       " 'node_id': 'be547951921049349e699c2e7ed030e1'}"
      ]
     },
     "execution_count": 3,
     "metadata": {},
     "output_type": "execute_result"
    }
   ],
   "source": [
    "domain.settings"
   ]
  },
  {
   "cell_type": "markdown",
   "id": "900bf384",
   "metadata": {},
   "source": [
    "#### 1.1 - Set custom configs"
   ]
  },
  {
   "cell_type": "code",
   "execution_count": 4,
   "id": "c404159b",
   "metadata": {},
   "outputs": [
    {
     "data": {
      "text/plain": [
       "<UpdateSetupResponse: 3342e86949c94ef495c6a9d4ec2af02f>"
      ]
     },
     "execution_count": 4,
     "metadata": {},
     "output_type": "execute_result"
    }
   ],
   "source": [
    "domain.configure(\n",
    "    domain_name=\"OpenGrid\",\n",
    "    contact='ionesio@openmined.org',\n",
    "    description=\"My Node Description ...\",\n",
    "    daa=False\n",
    ")"
   ]
  },
  {
   "cell_type": "markdown",
   "id": "5d9d49fe",
   "metadata": {},
   "source": [
    "### 1 - Check custom node configs"
   ]
  },
  {
   "cell_type": "code",
   "execution_count": 5,
   "id": "59ecb67d",
   "metadata": {},
   "outputs": [
    {
     "data": {
      "text/plain": [
       "{'id': 1,\n",
       " 'domain_name': 'OpenGrid',\n",
       " 'description': 'My Node Description ...',\n",
       " 'contact': 'ionesio@openmined.org',\n",
       " 'daa': False,\n",
       " 'node_id': 'be547951921049349e699c2e7ed030e1'}"
      ]
     },
     "execution_count": 5,
     "metadata": {},
     "output_type": "execute_result"
    }
   ],
   "source": [
    "domain.settings"
   ]
  },
  {
   "cell_type": "markdown",
   "id": "99354cab",
   "metadata": {},
   "source": [
    "### 1 - Creating DS users with PB always equals 0"
   ]
  },
  {
   "cell_type": "code",
   "execution_count": null,
   "id": "6b46fc9e",
   "metadata": {},
   "outputs": [],
   "source": [
    "domain.users.create(email=\"data_scientist1@openmined.org\", password=\"tst123\", name=\"Ana\")\n",
    "domain.users.create(email=\"data_scientist2@openmined.org\", password=\"tst123\", name=\"Bob\")\n",
    "domain.users.create(email=\"data_scientist3@openmined.org\", password=\"tst123\", name=\"Phil\")\n",
    "domain.users.create(email=\"data_scientist4@openmined.org\", password=\"tst123\", name=\"Alice\")"
   ]
  },
  {
   "cell_type": "code",
   "execution_count": null,
   "id": "3c13f3e6",
   "metadata": {},
   "outputs": [],
   "source": [
    "domain.users.pandas()"
   ]
  },
  {
   "cell_type": "markdown",
   "id": "18f685a0",
   "metadata": {},
   "source": [
    "#### 1.1 - Updating DS users PB using Owner account"
   ]
  },
  {
   "cell_type": "code",
   "execution_count": null,
   "id": "cf55591e",
   "metadata": {},
   "outputs": [],
   "source": [
    "domain.users.update(user_id=2, budget=10.0)\n",
    "domain.users.update(user_id=3, budget=15.0)\n",
    "domain.users.update(user_id=4, budget=20.0)\n",
    "domain.users.update(user_id=5, budget=25.0)"
   ]
  },
  {
   "cell_type": "code",
   "execution_count": null,
   "id": "d86e1bae",
   "metadata": {},
   "outputs": [],
   "source": [
    "domain.users.pandas()"
   ]
  },
  {
   "cell_type": "markdown",
   "id": "583faf35",
   "metadata": {},
   "source": [
    "### 2 - Deleting / Reseting a node ..."
   ]
  },
  {
   "cell_type": "code",
   "execution_count": null,
   "id": "f752e87a",
   "metadata": {},
   "outputs": [],
   "source": [
    "import torch as th\n",
    "\n",
    "x = th.tensor([1,2,3,4,5])\n",
    "\n",
    "x_s = x.send(domain, tags=[\"#x\", \"testing\"], description=\"features!\", pointable=True)"
   ]
  },
  {
   "cell_type": "code",
   "execution_count": null,
   "id": "67a04aa0",
   "metadata": {},
   "outputs": [],
   "source": [
    "ds1_domain_session = sy.login(email=\"data_scientist1@openmined.org\", password=\"tst123\", port=8081)\n",
    "ds2_domain_session = sy.login(email=\"data_scientist2@openmined.org\", password=\"tst123\", port=8081)\n",
    "ds3_domain_session = sy.login(email=\"data_scientist3@openmined.org\", password=\"tst123\", port=8081)\n",
    "ds4_domain_session = sy.login(email=\"data_scientist4@openmined.org\", password=\"tst123\", port=8081)"
   ]
  },
  {
   "cell_type": "code",
   "execution_count": null,
   "id": "9fce3418",
   "metadata": {},
   "outputs": [],
   "source": [
    "x_s1 = ds1_domain_session.store['#x'].request(reason=\"DS1 - I need to see this data!\")\n",
    "x_s1 = ds2_domain_session.store['#x'].request(reason=\"DS2 - I need to see this data!\")\n",
    "x_s1 = ds3_domain_session.store['#x'].request(reason=\"DS3 - I need to see this data!\")\n",
    "x_s1 = ds4_domain_session.store['#x'].request(reason=\"DS4 - I need to see this data!\")"
   ]
  },
  {
   "cell_type": "markdown",
   "id": "967a2945",
   "metadata": {},
   "source": [
    "#### 2.2 - Check hosted data / Data Requets"
   ]
  },
  {
   "cell_type": "code",
   "execution_count": null,
   "id": "e756da18",
   "metadata": {},
   "outputs": [],
   "source": [
    "domain.store.pandas"
   ]
  },
  {
   "cell_type": "code",
   "execution_count": null,
   "id": "2a583dbe",
   "metadata": {},
   "outputs": [],
   "source": [
    "domain.requests.pandas"
   ]
  },
  {
   "cell_type": "markdown",
   "id": "dabfa405",
   "metadata": {},
   "source": [
    "#### 2.3 - Reset Node"
   ]
  },
  {
   "cell_type": "code",
   "execution_count": null,
   "id": "140fbd4b",
   "metadata": {},
   "outputs": [],
   "source": [
    "domain.reset()"
   ]
  },
  {
   "cell_type": "markdown",
   "id": "dcc59ad3",
   "metadata": {},
   "source": [
    "#### 2.4 - Check hosted data / Data Requets"
   ]
  },
  {
   "cell_type": "code",
   "execution_count": null,
   "id": "240dde7e",
   "metadata": {},
   "outputs": [],
   "source": [
    "domain.store.pandas"
   ]
  },
  {
   "cell_type": "code",
   "execution_count": null,
   "id": "12b192bf",
   "metadata": {},
   "outputs": [],
   "source": [
    "domain.requests.pandas"
   ]
  },
  {
   "cell_type": "markdown",
   "id": "b8be2ab7",
   "metadata": {},
   "source": [
    "### 3 - Transfering Ownership"
   ]
  },
  {
   "cell_type": "code",
   "execution_count": null,
   "id": "014c678e",
   "metadata": {},
   "outputs": [],
   "source": [
    "domain.users.update(user_id=2, role=\"Owner\")"
   ]
  },
  {
   "cell_type": "code",
   "execution_count": null,
   "id": "1ff3d39e",
   "metadata": {},
   "outputs": [],
   "source": [
    "domain.users.pandas()"
   ]
  }
 ],
 "metadata": {
  "kernelspec": {
   "display_name": "Python 3 (ipykernel)",
   "language": "python",
   "name": "python3"
  },
  "language_info": {
   "codemirror_mode": {
    "name": "ipython",
    "version": 3
   },
   "file_extension": ".py",
   "mimetype": "text/x-python",
   "name": "python",
   "nbconvert_exporter": "python",
   "pygments_lexer": "ipython3",
   "version": "3.7.3"
  },
  "toc": {
   "base_numbering": 1,
   "nav_menu": {},
   "number_sections": true,
   "sideBar": true,
   "skip_h1_title": false,
   "title_cell": "Table of Contents",
   "title_sidebar": "Contents",
   "toc_cell": false,
   "toc_position": {},
   "toc_section_display": true,
   "toc_window_display": false
  },
  "varInspector": {
   "cols": {
    "lenName": 16,
    "lenType": 16,
    "lenVar": 40
   },
   "kernels_config": {
    "python": {
     "delete_cmd_postfix": "",
     "delete_cmd_prefix": "del ",
     "library": "var_list.py",
     "varRefreshCmd": "print(var_dic_list())"
    },
    "r": {
     "delete_cmd_postfix": ") ",
     "delete_cmd_prefix": "rm(",
     "library": "var_list.r",
     "varRefreshCmd": "cat(var_dic_list()) "
    }
   },
   "types_to_exclude": [
    "module",
    "function",
    "builtin_function_or_method",
    "instance",
    "_Feature"
   ],
   "window_display": false
  }
 },
 "nbformat": 4,
 "nbformat_minor": 5
}
