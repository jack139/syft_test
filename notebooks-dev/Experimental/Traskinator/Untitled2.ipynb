{
 "cells": [
  {
   "cell_type": "code",
   "execution_count": 1,
   "id": "a7ba5efe-517a-4fb4-ab3f-96363955ca0b",
   "metadata": {},
   "outputs": [
    {
     "name": "stdout",
     "output_type": "stream",
     "text": [
      "/Users/areopagus/Laboratory/PySyft/packages/syft/src/syft/lib/__init__.py:load:195\n"
     ]
    }
   ],
   "source": [
    "import syft as sy\n",
    "import numpy as np\n",
    "from syft.core.common.uid import UID"
   ]
  },
  {
   "cell_type": "code",
   "execution_count": 2,
   "id": "e5d8275f-689e-4fd0-ad8f-16b2565f2d25",
   "metadata": {},
   "outputs": [],
   "source": [
    "# NETWORK_HOST_IP = \"localhost:9081\""
   ]
  },
  {
   "cell_type": "code",
   "execution_count": 3,
   "id": "9b83f5cc-46f2-45c7-bad8-89bf2ebd1479",
   "metadata": {},
   "outputs": [],
   "source": [
    "from syft.core.node.common.node_service.simple.obj_exists import DoesObjectExistMessage"
   ]
  },
  {
   "cell_type": "code",
   "execution_count": 22,
   "id": "3ed7d7c0-75c8-47b6-a201-2189980d5425",
   "metadata": {},
   "outputs": [],
   "source": [
    "# domain = sy.login(email=\"info@openmined.org\", password=\"changethis\", port=8081)"
   ]
  },
  {
   "cell_type": "code",
   "execution_count": 23,
   "id": "0b5288f3-5473-4641-8003-5328180e0419",
   "metadata": {},
   "outputs": [],
   "source": []
  },
  {
   "cell_type": "code",
   "execution_count": 26,
   "id": "a6c92d6f-4851-4385-8c8d-ce97882511ef",
   "metadata": {},
   "outputs": [
    {
     "name": "stdout",
     "output_type": "stream",
     "text": [
      "Setup hasnt run yet so ignoring set_node_uid\n"
     ]
    }
   ],
   "source": []
  },
  {
   "cell_type": "code",
   "execution_count": 27,
   "id": "b150b4c7-9d84-4d52-861b-42a4b72f72b6",
   "metadata": {},
   "outputs": [
    {
     "name": "stdout",
     "output_type": "stream",
     "text": [
      "Enter signed process```````````````````````\n",
      "Enter signed process```````````````````````\n",
      "Enter signed process```````````````````````\n",
      "Enter signed process```````````````````````\n"
     ]
    }
   ],
   "source": []
  },
  {
   "cell_type": "code",
   "execution_count": 18,
   "id": "3c997092-1128-439c-b96c-903938f5114c",
   "metadata": {},
   "outputs": [],
   "source": []
  },
  {
   "cell_type": "code",
   "execution_count": 19,
   "id": "62940a65-388f-42ab-832a-609a40276fd5",
   "metadata": {},
   "outputs": [],
   "source": []
  },
  {
   "cell_type": "code",
   "execution_count": 20,
   "id": "93c0bbdf-3edd-4998-b0cb-12e5006897e8",
   "metadata": {},
   "outputs": [],
   "source": []
  },
  {
   "cell_type": "code",
   "execution_count": 21,
   "id": "4e6e89aa-930c-4262-b6f6-6e4976584511",
   "metadata": {},
   "outputs": [],
   "source": []
  },
  {
   "cell_type": "code",
   "execution_count": null,
   "id": "fd8e5bf8-b6c1-42a9-b021-0a8aab87d114",
   "metadata": {},
   "outputs": [],
   "source": []
  }
 ],
 "metadata": {
  "kernelspec": {
   "display_name": "Python 3 (ipykernel)",
   "language": "python",
   "name": "python3"
  },
  "language_info": {
   "codemirror_mode": {
    "name": "ipython",
    "version": 3
   },
   "file_extension": ".py",
   "mimetype": "text/x-python",
   "name": "python",
   "nbconvert_exporter": "python",
   "pygments_lexer": "ipython3",
   "version": "3.9.7"
  }
 },
 "nbformat": 4,
 "nbformat_minor": 5
}
