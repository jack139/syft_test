{
 "cells": [
  {
   "cell_type": "markdown",
   "id": "dcbc42e7-c110-4a98-ab53-459df7c07fdb",
   "metadata": {},
   "source": [
    "## Association Request\n",
    "\n",
    "This notebook aims to give a brief explanation on  how the association request works."
   ]
  },
  {
   "cell_type": "code",
   "execution_count": null,
   "id": "8f026827-f083-4211-a7e0-2dae02be5f75",
   "metadata": {},
   "outputs": [],
   "source": [
    "%load_ext autoreload\n",
    "%autoreload 2"
   ]
  },
  {
   "cell_type": "code",
   "execution_count": 1,
   "id": "f06c5bb5-e22f-44c8-a111-f849c37b7e6d",
   "metadata": {},
   "outputs": [],
   "source": [
    "import syft as sy\n",
    "import torch as th"
   ]
  },
  {
   "cell_type": "code",
   "execution_count": 2,
   "id": "d072ad92-7f50-4bf1-9c69-17794871f372",
   "metadata": {},
   "outputs": [
    {
     "data": {
      "text/html": [
       "<div>\n",
       "<style scoped>\n",
       "    .dataframe tbody tr th:only-of-type {\n",
       "        vertical-align: middle;\n",
       "    }\n",
       "\n",
       "    .dataframe tbody tr th {\n",
       "        vertical-align: top;\n",
       "    }\n",
       "\n",
       "    .dataframe thead th {\n",
       "        text-align: right;\n",
       "    }\n",
       "</style>\n",
       "<table border=\"1\" class=\"dataframe\">\n",
       "  <thead>\n",
       "    <tr style=\"text-align: right;\">\n",
       "      <th></th>\n",
       "      <th>name</th>\n",
       "      <th>host_or_ip</th>\n",
       "      <th>vpn_host_or_ip</th>\n",
       "      <th>protocol</th>\n",
       "      <th>port</th>\n",
       "      <th>admin_email</th>\n",
       "      <th>website</th>\n",
       "      <th>slack</th>\n",
       "      <th>slack_channel</th>\n",
       "    </tr>\n",
       "  </thead>\n",
       "  <tbody>\n",
       "    <tr>\n",
       "      <th>0</th>\n",
       "      <td>omnet</td>\n",
       "      <td>13.64.187.229</td>\n",
       "      <td>100.64.0.1</td>\n",
       "      <td>http</td>\n",
       "      <td>80</td>\n",
       "      <td>support@openmined.org</td>\n",
       "      <td>https://www.openmined.org/</td>\n",
       "      <td>https://slack.openmined.org/</td>\n",
       "      <td>omnet</td>\n",
       "    </tr>\n",
       "    <tr>\n",
       "      <th>1</th>\n",
       "      <td>United Nations PET Lab (Mock)</td>\n",
       "      <td>168.61.66.213</td>\n",
       "      <td>100.64.0.1</td>\n",
       "      <td>http</td>\n",
       "      <td>80</td>\n",
       "      <td>support@openmined.org</td>\n",
       "      <td>https://www.openmined.org/</td>\n",
       "      <td>https://slack.openmined.org/</td>\n",
       "      <td>petlab</td>\n",
       "    </tr>\n",
       "  </tbody>\n",
       "</table>\n",
       "</div>"
      ],
      "text/plain": [
       "<syft.registry.NetworkRegistry at 0x7fbf61afd8e0>"
      ]
     },
     "execution_count": 2,
     "metadata": {},
     "output_type": "execute_result"
    }
   ],
   "source": [
    "sy.networks"
   ]
  },
  {
   "cell_type": "markdown",
   "id": "89da5873",
   "metadata": {},
   "source": [
    "# start two different stacks\n",
    "```\n",
    "hagrid launch test_network_1 network to docker:9081\n",
    "hagrid launch test_domain_1 domain to docker:9082\n",
    "```"
   ]
  },
  {
   "cell_type": "markdown",
   "id": "52ab6d0a-efe5-47e3-b0e5-a470290883fa",
   "metadata": {},
   "source": [
    "### Connect with Domain"
   ]
  },
  {
   "cell_type": "code",
   "execution_count": null,
   "id": "0d488390-95d3-4371-ba5c-5ae1550f6e83",
   "metadata": {},
   "outputs": [],
   "source": [
    "NETWORK_HOST_IP = \"localhost:9081\""
   ]
  },
  {
   "cell_type": "code",
   "execution_count": null,
   "id": "83310158-7358-4531-b74e-83358c24cd87",
   "metadata": {},
   "outputs": [],
   "source": [
    "domain = sy.login(email=\"info@openmined.org\", password=\"changethis\", port=9082)"
   ]
  },
  {
   "cell_type": "markdown",
   "id": "b0eb0ca7-8a6d-470e-8eda-c28c188237f1",
   "metadata": {},
   "source": [
    "### Request Node Association"
   ]
  },
  {
   "cell_type": "code",
   "execution_count": null,
   "id": "442485af-127a-479b-94d3-c008d09d4615",
   "metadata": {},
   "outputs": [],
   "source": [
    "vpn_status = domain.vpn_status()"
   ]
  },
  {
   "cell_type": "code",
   "execution_count": null,
   "id": "d53fa3b1-f149-4ed1-a53d-bb27a95404eb",
   "metadata": {},
   "outputs": [],
   "source": [
    "vpn_status"
   ]
  },
  {
   "cell_type": "code",
   "execution_count": null,
   "id": "67b66b16-81ee-4dd7-b5d7-3650a2b62dba",
   "metadata": {},
   "outputs": [],
   "source": [
    "DOMAIN_VPN_IP = vpn_status[\"host\"][\"ip\"]\n",
    "for peer in vpn_status[\"peers\"]:\n",
    "    if peer[\"hostname\"] == \"test_network_1\":\n",
    "        NETWORK_VPN_IP = peer[\"ip\"]"
   ]
  },
  {
   "cell_type": "code",
   "execution_count": null,
   "id": "590426a6-258d-4296-bf73-13b1e12cf525",
   "metadata": {},
   "outputs": [],
   "source": [
    "print(DOMAIN_VPN_IP, NETWORK_VPN_IP)"
   ]
  },
  {
   "cell_type": "code",
   "execution_count": null,
   "id": "5a326e43-85a5-4fd0-bde1-395b79d9de81",
   "metadata": {},
   "outputs": [],
   "source": [
    "# we need to refactor this so that the VPN IPs are not required to be supplied\n",
    "domain.apply_to_network(\n",
    "    domain_vpn_ip=DOMAIN_VPN_IP,\n",
    "    network_vpn_ip=NETWORK_VPN_IP\n",
    ")"
   ]
  },
  {
   "cell_type": "markdown",
   "id": "a481503f-c999-4039-9a31-fd50b183d4d7",
   "metadata": {},
   "source": [
    "### Monitor Association Requests"
   ]
  },
  {
   "cell_type": "code",
   "execution_count": null,
   "id": "5dfef6fd-3acc-41fa-a6fb-ce99f4d4c8d4",
   "metadata": {},
   "outputs": [],
   "source": [
    "network = sy.login(email=\"info@openmined.org\", password=\"changethis\", port=9081)"
   ]
  },
  {
   "cell_type": "code",
   "execution_count": null,
   "id": "da4726a8-b9b1-4835-9309-b791a3bae6b1",
   "metadata": {},
   "outputs": [],
   "source": [
    "network.association.pandas()"
   ]
  },
  {
   "cell_type": "markdown",
   "id": "9ac295a0-7e57-44f8-9bf6-c6a4107591e6",
   "metadata": {},
   "source": [
    "### Accept/Deny Association Requests"
   ]
  },
  {
   "cell_type": "code",
   "execution_count": null,
   "id": "4dc3e0fd-64b4-4f94-a9f2-4b7a7b3269be",
   "metadata": {},
   "outputs": [],
   "source": [
    "associations = network.association.all()"
   ]
  },
  {
   "cell_type": "code",
   "execution_count": null,
   "id": "cda9fc21-17e0-4f93-bf4d-4fcc55b15c37",
   "metadata": {},
   "outputs": [],
   "source": [
    "request_id = int(associations[0][\"association_id\"])"
   ]
  },
  {
   "cell_type": "code",
   "execution_count": null,
   "id": "d847aeb7-4c3a-4cf8-99f5-2fce904c3c00",
   "metadata": {},
   "outputs": [],
   "source": [
    "network.association[request_id].accept()"
   ]
  },
  {
   "cell_type": "markdown",
   "id": "742d2aff-c426-4c84-9bf8-44dfb93bce8d",
   "metadata": {},
   "source": [
    "### Create Data and Tag"
   ]
  },
  {
   "cell_type": "code",
   "execution_count": null,
   "id": "bde37dc5-af8f-4be4-8889-26938ebc3639",
   "metadata": {},
   "outputs": [],
   "source": [
    "import torch as th\n",
    "x = th.Tensor([1,2,3])"
   ]
  },
  {
   "cell_type": "code",
   "execution_count": null,
   "id": "edce4d4c-7fff-46fc-8e11-6b20ea9bec92",
   "metadata": {},
   "outputs": [],
   "source": []
  },
  {
   "cell_type": "code",
   "execution_count": null,
   "id": "b971e1d8-660b-4130-8628-01f6fde8793e",
   "metadata": {},
   "outputs": [],
   "source": [
    "x_ptr = x.send(domain, tags=[\"secret\"])"
   ]
  },
  {
   "cell_type": "code",
   "execution_count": null,
   "id": "bca256e7-1881-4803-9b7b-fe543f8fba98",
   "metadata": {},
   "outputs": [],
   "source": [
    "domain.store"
   ]
  },
  {
   "cell_type": "markdown",
   "id": "fbb5ffdc",
   "metadata": {},
   "source": [
    "### Use Domain's Proxy Client"
   ]
  },
  {
   "cell_type": "code",
   "execution_count": 10,
   "id": "f081d60d-9087-4033-8144-4b9391dc98b3",
   "metadata": {},
   "outputs": [],
   "source": [
    "import syft as sy\n",
    "import torch as th"
   ]
  },
  {
   "cell_type": "code",
   "execution_count": null,
   "id": "d183539f-a2bb-4088-9d04-66a3a0d5ca25",
   "metadata": {},
   "outputs": [],
   "source": [
    "NETWORK_HOST_IP=\"13.64.187.229\"\n",
    "network = sy.login(url=f\"http://{NETWORK_HOST_IP}\", port=80)"
   ]
  },
  {
   "cell_type": "code",
   "execution_count": 6,
   "id": "f2b98570",
   "metadata": {},
   "outputs": [
    {
     "data": {
      "text/html": [
       "<div>\n",
       "<style scoped>\n",
       "    .dataframe tbody tr th:only-of-type {\n",
       "        vertical-align: middle;\n",
       "    }\n",
       "\n",
       "    .dataframe tbody tr th {\n",
       "        vertical-align: top;\n",
       "    }\n",
       "\n",
       "    .dataframe thead th {\n",
       "        text-align: right;\n",
       "    }\n",
       "</style>\n",
       "<table border=\"1\" class=\"dataframe\">\n",
       "  <thead>\n",
       "    <tr style=\"text-align: right;\">\n",
       "      <th></th>\n",
       "      <th>host_or_ip</th>\n",
       "      <th>id</th>\n",
       "      <th>is_vpn</th>\n",
       "      <th>name</th>\n",
       "    </tr>\n",
       "  </thead>\n",
       "  <tbody>\n",
       "    <tr>\n",
       "      <th>0</th>\n",
       "      <td>100.64.0.2</td>\n",
       "      <td>3d405798bd374911900793e382db5242</td>\n",
       "      <td>1</td>\n",
       "      <td>outrageous_oneill</td>\n",
       "    </tr>\n",
       "  </tbody>\n",
       "</table>\n",
       "</div>"
      ],
      "text/plain": [
       "<syft.core.node.common.client_manager.domain_api.DomainRequestAPI at 0x7fc6d843cc40>"
      ]
     },
     "execution_count": 6,
     "metadata": {},
     "output_type": "execute_result"
    }
   ],
   "source": [
    "network.domains"
   ]
  },
  {
   "cell_type": "code",
   "execution_count": 7,
   "id": "6db4f910-997c-4c33-9d7f-b92495d77c54",
   "metadata": {},
   "outputs": [],
   "source": [
    "# you can use 3 different ways to get the proxy domain client\n",
    "\n",
    "# with int row\n",
    "domain_client = network.domains[0]"
   ]
  },
  {
   "cell_type": "code",
   "execution_count": 8,
   "id": "eee08152-891a-47d5-837f-106f79a5e37f",
   "metadata": {},
   "outputs": [
    {
     "data": {
      "text/plain": [
       "<ProxyClient - outrageous_oneill: <UID: 3d405798bd374911900793e382db5242>>"
      ]
     },
     "execution_count": 8,
     "metadata": {},
     "output_type": "execute_result"
    }
   ],
   "source": [
    "domain_client"
   ]
  },
  {
   "cell_type": "code",
   "execution_count": null,
   "id": "63df3ab4-632b-4374-ae29-f8201f21a000",
   "metadata": {},
   "outputs": [],
   "source": [
    "# with id string\n",
    "domain_client = network.domains[\"9a7fd94214e049f6871d3d21e274cd29\"]"
   ]
  },
  {
   "cell_type": "code",
   "execution_count": null,
   "id": "ecc10148-6576-4202-87f3-bfd168ad9d76",
   "metadata": {},
   "outputs": [],
   "source": [
    "# with UID object\n",
    "from syft.core.common.uid import UID\n",
    "id = UID(\"9a7fd94214e049f6871d3d21e274cd29\")\n",
    "domain_client = network.domains[id]"
   ]
  },
  {
   "cell_type": "code",
   "execution_count": null,
   "id": "7e674469-2ce6-495b-ac50-33928cbcd454",
   "metadata": {},
   "outputs": [],
   "source": [
    "# now we can actually use it"
   ]
  },
  {
   "cell_type": "code",
   "execution_count": null,
   "id": "cf9352fd-fc58-4e4a-b9e6-5750f3433a5d",
   "metadata": {},
   "outputs": [],
   "source": [
    "domain_client"
   ]
  },
  {
   "cell_type": "code",
   "execution_count": null,
   "id": "b0a3d36c-866c-4da1-9358-f137f37fdc12",
   "metadata": {},
   "outputs": [],
   "source": [
    "domain_client.store"
   ]
  },
  {
   "cell_type": "code",
   "execution_count": null,
   "id": "b504f903-1d5c-4c5f-84f0-24981ad861f3",
   "metadata": {},
   "outputs": [],
   "source": [
    "secret_ptr = domain_client.store[0]"
   ]
  },
  {
   "cell_type": "code",
   "execution_count": null,
   "id": "8d4917eb-17c4-4c00-a487-b626a8b4382b",
   "metadata": {},
   "outputs": [],
   "source": [
    "try:\n",
    "    res = secret_ptr.get(delete_obj=False)\n",
    "    print(\"Now I can get\", res)\n",
    "except Exception as e:\n",
    "    print(\"Guest cant get\")"
   ]
  },
  {
   "cell_type": "markdown",
   "id": "c64a8aa6-1a1e-4e27-8c9a-8d942959c1f2",
   "metadata": {},
   "source": [
    "### Login to Remote Domain via Proxy Client"
   ]
  },
  {
   "cell_type": "code",
   "execution_count": null,
   "id": "f89b44b7-7bac-4167-b557-95e0642bef6d",
   "metadata": {},
   "outputs": [],
   "source": [
    "domain_client.login(email=\"info@openmined.org\", password=\"changethis\")"
   ]
  },
  {
   "cell_type": "code",
   "execution_count": null,
   "id": "3c3c0670-eb37-4401-b94c-11a05e941649",
   "metadata": {},
   "outputs": [],
   "source": [
    "domain_client.logged_in"
   ]
  },
  {
   "cell_type": "code",
   "execution_count": null,
   "id": "432ba731-6260-41ee-98bd-11fa609dc7f3",
   "metadata": {},
   "outputs": [],
   "source": [
    "try:\n",
    "    res = secret_ptr.get(delete_obj=False)\n",
    "    print(\"Now I can get\", res)\n",
    "except Exception as e:\n",
    "    print(\"Guest cant get\")"
   ]
  },
  {
   "cell_type": "code",
   "execution_count": null,
   "id": "ec41949c-bc39-421d-93e5-d3c6ad25a2a9",
   "metadata": {},
   "outputs": [],
   "source": [
    "domain_client.logout()"
   ]
  },
  {
   "cell_type": "markdown",
   "id": "5b652b71-1cbd-4e93-8378-4b2f6ab6d6ec",
   "metadata": {},
   "source": [
    "### Search the Network"
   ]
  },
  {
   "cell_type": "code",
   "execution_count": 1,
   "id": "dd30ec96-d1e3-4730-8b2b-9830769d910a",
   "metadata": {},
   "outputs": [],
   "source": [
    "import syft as sy"
   ]
  },
  {
   "cell_type": "code",
   "execution_count": 2,
   "id": "0426ed8c-a671-442a-8a75-3b18f51711d9",
   "metadata": {},
   "outputs": [],
   "source": [
    "sy.networks"
   ]
  },
  {
   "cell_type": "code",
   "execution_count": 3,
   "id": "28a483fc-1652-4f7d-a636-938923dc116f",
   "metadata": {},
   "outputs": [
    {
     "name": "stdout",
     "output_type": "stream",
     "text": [
      "Connecting to http://13.64.187.229...\n",
      "\n",
      "No email and password defined in login() - connecting as anonymous user!!!\n",
      "\n",
      " done! \t Logging into omnet... done!\n"
     ]
    }
   ],
   "source": [
    "NETWORK_HOST_IP=\"13.64.187.229\"\n",
    "network = sy.login(url=f\"http://{NETWORK_HOST_IP}\", port=80)"
   ]
  },
  {
   "cell_type": "code",
   "execution_count": 4,
   "id": "db5d6cef-fdab-49f0-ad80-1b9213b69223",
   "metadata": {},
   "outputs": [
    {
     "data": {
      "text/html": [
       "<div>\n",
       "<style scoped>\n",
       "    .dataframe tbody tr th:only-of-type {\n",
       "        vertical-align: middle;\n",
       "    }\n",
       "\n",
       "    .dataframe tbody tr th {\n",
       "        vertical-align: top;\n",
       "    }\n",
       "\n",
       "    .dataframe thead th {\n",
       "        text-align: right;\n",
       "    }\n",
       "</style>\n",
       "<table border=\"1\" class=\"dataframe\">\n",
       "  <thead>\n",
       "    <tr style=\"text-align: right;\">\n",
       "      <th></th>\n",
       "      <th>host_or_ip</th>\n",
       "      <th>id</th>\n",
       "      <th>is_vpn</th>\n",
       "      <th>name</th>\n",
       "    </tr>\n",
       "  </thead>\n",
       "  <tbody>\n",
       "    <tr>\n",
       "      <th>0</th>\n",
       "      <td>100.64.0.2</td>\n",
       "      <td>3d405798bd374911900793e382db5242</td>\n",
       "      <td>1</td>\n",
       "      <td>outrageous_oneill</td>\n",
       "    </tr>\n",
       "  </tbody>\n",
       "</table>\n",
       "</div>"
      ],
      "text/plain": [
       "<syft.core.node.common.client_manager.domain_api.DomainRequestAPI at 0x7fc6d843cc40>"
      ]
     },
     "execution_count": 4,
     "metadata": {},
     "output_type": "execute_result"
    }
   ],
   "source": [
    "network.domains"
   ]
  },
  {
   "cell_type": "code",
   "execution_count": 5,
   "id": "25e0e539-0dff-46f9-bc9c-ddfbd1c060d7",
   "metadata": {},
   "outputs": [
    {
     "data": {
      "text/html": [
       "<div>\n",
       "<style scoped>\n",
       "    .dataframe tbody tr th:only-of-type {\n",
       "        vertical-align: middle;\n",
       "    }\n",
       "\n",
       "    .dataframe tbody tr th {\n",
       "        vertical-align: top;\n",
       "    }\n",
       "\n",
       "    .dataframe thead th {\n",
       "        text-align: right;\n",
       "    }\n",
       "</style>\n",
       "<table border=\"1\" class=\"dataframe\">\n",
       "  <thead>\n",
       "    <tr style=\"text-align: right;\">\n",
       "      <th></th>\n",
       "      <th>id</th>\n",
       "      <th>name</th>\n",
       "      <th>host_or_ip</th>\n",
       "      <th>is_vpn</th>\n",
       "    </tr>\n",
       "  </thead>\n",
       "  <tbody>\n",
       "    <tr>\n",
       "      <th>0</th>\n",
       "      <td>3d405798bd374911900793e382db5242</td>\n",
       "      <td>outrageous_oneill</td>\n",
       "      <td>100.64.0.2</td>\n",
       "      <td>True</td>\n",
       "    </tr>\n",
       "  </tbody>\n",
       "</table>\n",
       "</div>"
      ],
      "text/plain": [
       "                                 id               name  host_or_ip  is_vpn\n",
       "0  3d405798bd374911900793e382db5242  outrageous_oneill  100.64.0.2    True"
      ]
     },
     "execution_count": 5,
     "metadata": {},
     "output_type": "execute_result"
    }
   ],
   "source": [
    "network.search(query=[\"secret\"])"
   ]
  },
  {
   "cell_type": "code",
   "execution_count": 10,
   "id": "8ae9f6b7-6361-4103-8d03-838ebdc54b60",
   "metadata": {},
   "outputs": [],
   "source": [
    "oniel_guest = network.domains['3d405798bd374911900793e382db5242']"
   ]
  },
  {
   "cell_type": "code",
   "execution_count": 17,
   "id": "57c1e9fe-232a-43ac-9a96-25797fc3834c",
   "metadata": {},
   "outputs": [
    {
     "name": "stdout",
     "output_type": "stream",
     "text": [
      "Logged in to outrageous_oneill as info@openmined.org\n"
     ]
    }
   ],
   "source": [
    "oniel_root = oniel_guest.login(email=\"info@openmined.org\", password=\"changethis\")"
   ]
  },
  {
   "cell_type": "code",
   "execution_count": 18,
   "id": "061414eb-d467-46b3-badf-a839bf3e2d94",
   "metadata": {},
   "outputs": [],
   "source": [
    "ptr = oniel_root.store['secret']"
   ]
  },
  {
   "cell_type": "code",
   "execution_count": 19,
   "id": "beb0bd04-8b75-451b-920c-2f7f3e99d724",
   "metadata": {},
   "outputs": [
    {
     "data": {
      "text/plain": [
       "tensor([1., 2., 3.])"
      ]
     },
     "execution_count": 19,
     "metadata": {},
     "output_type": "execute_result"
    }
   ],
   "source": [
    "ptr.get()"
   ]
  },
  {
   "cell_type": "code",
   "execution_count": null,
   "id": "80ee74ed-7e7f-4956-a303-122a6522ccdc",
   "metadata": {},
   "outputs": [],
   "source": []
  }
 ],
 "metadata": {
  "kernelspec": {
   "display_name": "Python 3 (ipykernel)",
   "language": "python",
   "name": "python3"
  },
  "language_info": {
   "codemirror_mode": {
    "name": "ipython",
    "version": 3
   },
   "file_extension": ".py",
   "mimetype": "text/x-python",
   "name": "python",
   "nbconvert_exporter": "python",
   "pygments_lexer": "ipython3",
   "version": "3.9.7"
  }
 },
 "nbformat": 4,
 "nbformat_minor": 5
}
